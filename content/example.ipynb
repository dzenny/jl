{
 "cells": [
  {
   "cell_type": "markdown",
   "metadata": {},
   "source": [
    "# Пример использования JupyterLite\n",
    "\n",
    "* JupyterLite - среда исполнения ноутбуков jupyter для использования в браузере.\n",
    "* Для этого интерепретатор CPython и некоторые С-библиотеки вроде numpy, pandas, скомпилированы в wasm.\n",
    "* Все \"чистые\" python-проекты исполняются без ограничений.\n",
    "* Сформированные пакет с JupyterLite и пользовательскими ноутбуками раздается как статичный вебсайт.\n",
    "* В данном случае, хостинг делается на Github Pages."
   ]
  },
  {
   "cell_type": "code",
   "execution_count": 4,
   "metadata": {},
   "outputs": [],
   "source": [
    "import numpy as np\n",
    "import matplotlib.pyplot as plt"
   ]
  },
  {
   "cell_type": "code",
   "execution_count": 40,
   "metadata": {},
   "outputs": [],
   "source": [
    "mu, sigma = 0, 1\n",
    "size = 10000\n",
    "ys = np.random.normal(loc=0, scale=1, size=size)"
   ]
  },
  {
   "cell_type": "code",
   "execution_count": null,
   "metadata": {},
   "outputs": [],
   "source": [
    "fig, ax = plt.subplots(1,1)\n",
    "count, bins, ignored = ax.hist(ys, 40, density=True)\n",
    "ax.set_title(f'Размер выборки: {size}')\n",
    "s = r'$\\frac{1}{\\sqrt{2}}$'\n",
    "ax.plot(\n",
    "    bins, 1/(sigma*np.sqrt(2*np.pi))*np.exp(-(bins-mu)**2/(2*sigma**2)),\n",
    "    linewidth = 2, color = 'r', label = f'μ={mu} σ={sigma}'\n",
    ")\n",
    "ax.legend(title='Нормальное\\nраспределение')\n",
    "plt.show(); "
   ]
  }
 ],
 "metadata": {
  "interpreter": {
   "hash": "475d57062c6ca8ada26ce2d2cc9bd898216b3fc9c9277f02d5aae652ea15a5bb"
  },
  "kernelspec": {
   "display_name": "Python 3.10.2 ('.venv': venv)",
   "language": "python",
   "name": "python3"
  },
  "language_info": {
   "codemirror_mode": {
    "name": "ipython",
    "version": 3
   },
   "file_extension": ".py",
   "mimetype": "text/x-python",
   "name": "python",
   "nbconvert_exporter": "python",
   "pygments_lexer": "ipython3",
   "version": "3.10.2"
  },
  "orig_nbformat": 4
 },
 "nbformat": 4,
 "nbformat_minor": 2
}
